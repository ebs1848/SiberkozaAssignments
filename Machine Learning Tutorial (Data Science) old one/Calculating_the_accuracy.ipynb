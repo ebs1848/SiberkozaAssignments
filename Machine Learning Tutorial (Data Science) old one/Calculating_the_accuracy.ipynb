{
 "cells": [
  {
   "cell_type": "code",
   "execution_count": 7,
   "id": "d04617dc-13d4-4d4c-8b4f-8e5daad420eb",
   "metadata": {},
   "outputs": [
    {
     "data": {
      "text/plain": [
       "1.0"
      ]
     },
     "execution_count": 7,
     "metadata": {},
     "output_type": "execute_result"
    }
   ],
   "source": [
    "import pandas as pd\n",
    "from sklearn.tree import DecisionTreeClassifier\n",
    "from sklearn.model_selection import train_test_split\n",
    "from sklearn.metrics import accuracy_score\n",
    "\n",
    "music_data_ebs = pd.read_csv('music.csv')\n",
    "X_ebs = music_data_ebs.drop(columns=['genre'])\n",
    "y_ebs = music_data_ebs['genre']\n",
    "X_ebs_train, X_ebs_test, y_ebs_train, y_ebs_test = train_test_split(X_ebs, y_ebs, test_size = 0.2)\n",
    "\n",
    "model_ebs = DecisionTreeClassifier()\n",
    "model_ebs.fit(X_ebs_train, y_ebs_train)\n",
    "predictions_ebs = model_ebs.predict(X_ebs_test)\n",
    "\n",
    "score_ebs = accuracy_score(y_ebs_test, predictions_ebs)\n",
    "score_ebs"
   ]
  },
  {
   "cell_type": "code",
   "execution_count": null,
   "id": "55752e24-8aa8-4d8c-8a34-15eb6c9f7dae",
   "metadata": {},
   "outputs": [],
   "source": []
  }
 ],
 "metadata": {
  "kernelspec": {
   "display_name": "Python 3 (ipykernel)",
   "language": "python",
   "name": "python3"
  },
  "language_info": {
   "codemirror_mode": {
    "name": "ipython",
    "version": 3
   },
   "file_extension": ".py",
   "mimetype": "text/x-python",
   "name": "python",
   "nbconvert_exporter": "python",
   "pygments_lexer": "ipython3",
   "version": "3.10.8"
  }
 },
 "nbformat": 4,
 "nbformat_minor": 5
}
