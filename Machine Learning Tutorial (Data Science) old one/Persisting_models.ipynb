{
 "cells": [
  {
   "cell_type": "code",
   "execution_count": 9,
   "id": "fbaeafdd-1395-488d-9206-2f7deb73de6d",
   "metadata": {},
   "outputs": [
    {
     "name": "stderr",
     "output_type": "stream",
     "text": [
      "C:\\python\\lib\\site-packages\\sklearn\\base.py:420: UserWarning: X does not have valid feature names, but DecisionTreeClassifier was fitted with feature names\n",
      "  warnings.warn(\n"
     ]
    },
    {
     "data": {
      "text/plain": [
       "array(['HipHop', 'Dance'], dtype=object)"
      ]
     },
     "execution_count": 9,
     "metadata": {},
     "output_type": "execute_result"
    }
   ],
   "source": [
    "import pandas as pd\n",
    "from sklearn.tree import DecisionTreeClassifier\n",
    "import joblib\n",
    "\n",
    "#music_data_ebs = pd.read_csv('music.csv')\n",
    "#X_ebs = music_data_ebs.drop(columns=['genre'])\n",
    "#y_ebs = music_data_ebs['genre']\n",
    "\n",
    "#model_ebs = DecisionTreeClassifier()\n",
    "#model_ebs.fit(X_ebs, y_ebs)\n",
    "\n",
    "model_ebs = joblib.load('music-reccommender.joblib')\n",
    "predictions_ebs = model_ebs.predict([ [21, 1], [22, 0] ])\n",
    "predictions_ebs"
   ]
  },
  {
   "cell_type": "code",
   "execution_count": null,
   "id": "bdda67de-4d56-4d26-921c-bcadf7379d5c",
   "metadata": {},
   "outputs": [],
   "source": []
  }
 ],
 "metadata": {
  "kernelspec": {
   "display_name": "Python 3 (ipykernel)",
   "language": "python",
   "name": "python3"
  },
  "language_info": {
   "codemirror_mode": {
    "name": "ipython",
    "version": 3
   },
   "file_extension": ".py",
   "mimetype": "text/x-python",
   "name": "python",
   "nbconvert_exporter": "python",
   "pygments_lexer": "ipython3",
   "version": "3.10.8"
  }
 },
 "nbformat": 4,
 "nbformat_minor": 5
}
