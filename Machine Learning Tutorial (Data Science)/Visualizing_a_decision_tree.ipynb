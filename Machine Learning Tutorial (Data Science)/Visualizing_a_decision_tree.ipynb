{
 "cells": [
  {
   "cell_type": "code",
   "execution_count": 2,
   "id": "8cd85ab9-99db-45f1-ae48-5ba152232c0d",
   "metadata": {},
   "outputs": [],
   "source": [
    "import pandas as pd\n",
    "from sklearn.tree import DecisionTreeClassifier\n",
    "from sklearn import tree\n",
    "\n",
    "music_data_ebs = pd.read_csv('music.csv')\n",
    "X_ebs = music_data_ebs.drop(columns=['genre'])\n",
    "y_ebs = music_data_ebs['genre']\n",
    "\n",
    "model_ebs = DecisionTreeClassifier()\n",
    "model_ebs.fit(X_ebs, y_ebs)\n",
    "\n",
    "tree.export_graphviz(model_ebs, out_file='music-recommender.dot', \n",
    "                     feature_names=['age', 'gender'], \n",
    "                     class_names=sorted(y_ebs.unique()),\n",
    "                     label='all', rounded=True, filled= True)"
   ]
  },
  {
   "cell_type": "code",
   "execution_count": null,
   "id": "474bb4aa-5298-4171-8e2d-a2dbdf837a8a",
   "metadata": {},
   "outputs": [],
   "source": []
  }
 ],
 "metadata": {
  "kernelspec": {
   "display_name": "Python 3 (ipykernel)",
   "language": "python",
   "name": "python3"
  },
  "language_info": {
   "codemirror_mode": {
    "name": "ipython",
    "version": 3
   },
   "file_extension": ".py",
   "mimetype": "text/x-python",
   "name": "python",
   "nbconvert_exporter": "python",
   "pygments_lexer": "ipython3",
   "version": "3.10.8"
  }
 },
 "nbformat": 4,
 "nbformat_minor": 5
}
