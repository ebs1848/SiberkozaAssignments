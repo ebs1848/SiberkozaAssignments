{
 "cells": [
  {
   "cell_type": "code",
   "execution_count": 7,
   "id": "8783491c-b0c6-4922-92e8-f7c257385792",
   "metadata": {},
   "outputs": [
    {
     "name": "stderr",
     "output_type": "stream",
     "text": [
      "C:\\python\\lib\\site-packages\\sklearn\\base.py:420: UserWarning: X does not have valid feature names, but DecisionTreeClassifier was fitted with feature names\n",
      "  warnings.warn(\n"
     ]
    },
    {
     "data": {
      "text/plain": [
       "array([39344., 39344.])"
      ]
     },
     "execution_count": 7,
     "metadata": {},
     "output_type": "execute_result"
    }
   ],
   "source": [
    "import pandas as pd\n",
    "from sklearn.tree import DecisionTreeClassifier\n",
    "\n",
    "Salary_data_ebs = pd.read_csv('Salary_dataset.csv')\n",
    "X_ebs = Salary_data_ebs.drop(columns=['Salary'])\n",
    "y_ebs = Salary_data_ebs['Salary']\n",
    "\n",
    "model_ebs = DecisionTreeClassifier()\n",
    "model_ebs.fit(X_ebs, y_ebs)\n",
    "predictions_ebs = model_ebs.predict([ [21, 1], [33, 0] ])\n",
    "predictions_ebs"
   ]
  },
  {
   "cell_type": "code",
   "execution_count": null,
   "id": "c62e9657-9b76-4bb3-a9ea-f13defd665bf",
   "metadata": {},
   "outputs": [],
   "source": []
  }
 ],
 "metadata": {
  "kernelspec": {
   "display_name": "Python 3 (ipykernel)",
   "language": "python",
   "name": "python3"
  },
  "language_info": {
   "codemirror_mode": {
    "name": "ipython",
    "version": 3
   },
   "file_extension": ".py",
   "mimetype": "text/x-python",
   "name": "python",
   "nbconvert_exporter": "python",
   "pygments_lexer": "ipython3",
   "version": "3.10.8"
  }
 },
 "nbformat": 4,
 "nbformat_minor": 5
}
