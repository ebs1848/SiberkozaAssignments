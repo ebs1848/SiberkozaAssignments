{
 "cells": [
  {
   "cell_type": "code",
   "execution_count": 19,
   "id": "fbaeafdd-1395-488d-9206-2f7deb73de6d",
   "metadata": {},
   "outputs": [
    {
     "data": {
      "text/plain": [
       "['salary-estimate.joblib']"
      ]
     },
     "execution_count": 19,
     "metadata": {},
     "output_type": "execute_result"
    }
   ],
   "source": [
    "import pandas as pd\n",
    "from sklearn.tree import DecisionTreeClassifier\n",
    "import joblib\n",
    "\n",
    "Salary_data_ebs = pd.read_csv('Salary_dataset.csv')\n",
    "X_ebs = Salary_data_ebs.drop(columns=['Salary'])\n",
    "y_ebs = Salary_data_ebs['Salary']\n",
    "\n",
    "model_ebs = DecisionTreeClassifier()\n",
    "model_ebs.fit(X_ebs, y_ebs)\n",
    "model_ebs = joblib.dump(model_ebs, 'salary-estimate.joblib')\n",
    "predictions_ebs = model_ebs\n",
    "predictions_ebs"
   ]
  },
  {
   "cell_type": "code",
   "execution_count": null,
   "id": "43dc5be5-2baf-4128-b195-2759a301bbb5",
   "metadata": {},
   "outputs": [],
   "source": []
  },
  {
   "cell_type": "code",
   "execution_count": null,
   "id": "4152e201-d6dd-4458-b163-edd00a26e5b4",
   "metadata": {},
   "outputs": [],
   "source": []
  }
 ],
 "metadata": {
  "kernelspec": {
   "display_name": "Python 3 (ipykernel)",
   "language": "python",
   "name": "python3"
  },
  "language_info": {
   "codemirror_mode": {
    "name": "ipython",
    "version": 3
   },
   "file_extension": ".py",
   "mimetype": "text/x-python",
   "name": "python",
   "nbconvert_exporter": "python",
   "pygments_lexer": "ipython3",
   "version": "3.10.8"
  }
 },
 "nbformat": 4,
 "nbformat_minor": 5
}
